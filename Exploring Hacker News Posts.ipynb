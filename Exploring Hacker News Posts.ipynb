{
 "cells": [
  {
   "cell_type": "markdown",
   "metadata": {},
   "source": [
    "# Exploring Hacker News Posts"
   ]
  },
  {
   "cell_type": "markdown",
   "metadata": {},
   "source": [
    "In this project, we'll explore the dataset of Hacker News Posts. Hacker News is a website started by the startup incubator Y Combinator, where user-submitted stories (known as \"posts\") are voted and commented upon, similar to reddit. Hacker News is extremely popular in technology and startup circles, and posts that make it to the top of Hacker News' listings can get hundreds of thousands of visitors as a result.\n",
    "\n",
    "We are interested to find the best times (hour) to post for Ask and Show Post in Hacker News Post since both of those have title with *Ask HN* or *Show HN* before the topic so it's easy to differentiate. Ask HN is used to ask HN community about specific question, while users will submit Show HN post when they want to show something they've created.  \n",
    "\n",
    "We can get the dataset from [here](https://www.kaggle.com/hacker-news/hacker-news-posts). This dataset contains Hacker News posts from the last 12 months (up to September 26 2016) including number of votes and comments. This dataset has several columns, there are :\n",
    "- title: title of the post (self explanatory)\n",
    "- url: the url of the item being linked to\n",
    "- num_points: the number of upvotes the post received\n",
    "- num_comments: the number of comments the post received\n",
    "- author: the name of the account that made the post\n",
    "- created_at: the date and time the post was made (the time zone is Eastern Time in the US)"
   ]
  },
  {
   "cell_type": "markdown",
   "metadata": {},
   "source": [
    "First, we'll try to open the dataset, change it into list and remove the header as shown below."
   ]
  },
  {
   "cell_type": "code",
   "execution_count": 1,
   "metadata": {
    "scrolled": true
   },
   "outputs": [
    {
     "name": "stdout",
     "output_type": "stream",
     "text": [
      "['id', 'title', 'url', 'num_points', 'num_comments', 'author', 'created_at']\n",
      "[['12579008', 'You have two days to comment if you want stem cells to be classified as your own', 'http://www.regulations.gov/document?D=FDA-2015-D-3719-0018', '1', '0', 'altstar', '9/26/2016 3:26'], ['12579005', 'SQLAR  the SQLite Archiver', 'https://www.sqlite.org/sqlar/doc/trunk/README.md', '1', '0', 'blacksqr', '9/26/2016 3:24'], ['12578997', 'What if we just printed a flatscreen television on the side of our boxes?', 'https://medium.com/vanmoof/our-secrets-out-f21c1f03fdc8#.ietxmez43', '1', '0', 'pavel_lishin', '9/26/2016 3:19'], ['12578989', 'algorithmic music', 'http://cacm.acm.org/magazines/2011/7/109891-algorithmic-composition/fulltext', '1', '0', 'poindontcare', '9/26/2016 3:16'], ['12578979', 'How the Data Vault Enables the Next-Gen Data Warehouse and Data Lake', 'https://www.talend.com/blog/2016/05/12/talend-and-Â\\x93the-data-vaultÂ\\x94', '1', '0', 'markgainor1', '9/26/2016 3:14'], ['12578975', 'Saving the Hassle of Shopping', 'https://blog.menswr.com/2016/09/07/whats-new-with-your-style-feed/', '1', '1', 'bdoux', '9/26/2016 3:13']]\n"
     ]
    }
   ],
   "source": [
    "from csv import reader\n",
    "\n",
    "opened_file = open('hacker-news-posts\\HN_posts_year_to_Sep_26_2016.csv', encoding='utf-8')\n",
    "read_file = reader(opened_file)\n",
    "hn = list(read_file)\n",
    "headers = hn[0]\n",
    "hn = hn[1:]\n",
    "\n",
    "print(headers)\n",
    "print(hn[:6])"
   ]
  },
  {
   "cell_type": "markdown",
   "metadata": {},
   "source": [
    "Next, since we're only specifically interested with Ask HN post and Show HN post, we'll create new lists to divide posts in the dataset into three categories: Ask HN posts, Show HN posts, and other posts. We'll use built-in function of string in Python (`startswith()`) that need input of string and return Boolean if string checked is started with input string of `startswith()` function. We'll also combine it with `lower()` function to handle with capital letters."
   ]
  },
  {
   "cell_type": "code",
   "execution_count": 5,
   "metadata": {
    "scrolled": true
   },
   "outputs": [
    {
     "name": "stdout",
     "output_type": "stream",
     "text": [
      "9139\n",
      "10158\n",
      "273822\n",
      "[['12578908', 'Ask HN: What TLD do you use for local development?', '', '4', '7', 'Sevrene', '9/26/2016 2:53'], ['12578522', 'Ask HN: How do you pass on your work when you die?', '', '6', '3', 'PascLeRasc', '9/26/2016 1:17'], ['12577908', 'Ask HN: How a DNS problem can be limited to a geographic region?', '', '1', '0', 'kuon', '9/25/2016 22:57'], ['12577870', 'Ask HN: Why join a fund when you can be an angel?', '', '1', '3', 'anthony_james', '9/25/2016 22:48'], ['12577647', 'Ask HN: Someone uses stock trading as passive income?', '', '5', '2', '00taffe', '9/25/2016 21:50']]\n"
     ]
    }
   ],
   "source": [
    "ask_posts = []\n",
    "how_posts = []\n",
    "other_posts = []\n",
    "\n",
    "for record in hn:\n",
    "    title = record[1]\n",
    "    if title.lower().startswith('ask hn'):\n",
    "        ask_posts.append(record)\n",
    "    elif title.lower().startswith('show hn'):\n",
    "        how_posts.append(record)\n",
    "    else:\n",
    "        other_posts.append(record)\n",
    "        \n",
    "print(len(ask_posts))\n",
    "print(len(how_posts))\n",
    "print(len(other_posts))   \n",
    "\n",
    "print(ask_posts[:5])"
   ]
  },
  {
   "cell_type": "markdown",
   "metadata": {},
   "source": [
    "Based on the code above, we have 9139 posts of Ask HN, 10158 posts of Show HN and 273822 of other posts. If we checked `ask_posts` lists, it shows the Ask HN post as we desire."
   ]
  },
  {
   "cell_type": "markdown",
   "metadata": {},
   "source": [
    "We want to know the top times (hours) to post in Hacker News. But, based on what metrics do we want to measure these post and measure the times? We can use number of comments or number of points. But, in this case, we'll use number of comments because comments is some sort of feedback of the post and part of interaction between the author and the readers. "
   ]
  },
  {
   "cell_type": "markdown",
   "metadata": {},
   "source": [
    "First, we'll observe the average number of comments of Ask HN post and Show HN post by iterating through each post and calculate the total number of all comment in each post category, then we'll divide with number of post in each category, like below."
   ]
  },
  {
   "cell_type": "code",
   "execution_count": 7,
   "metadata": {
    "scrolled": true
   },
   "outputs": [
    {
     "name": "stdout",
     "output_type": "stream",
     "text": [
      "Average Number of Comments for Ask Posts :  10.393478498741656\n",
      "Average Number of Comments for How Posts :  4.886099625910612\n"
     ]
    }
   ],
   "source": [
    "total_ask_comments = 0\n",
    "total_how_comments = 0\n",
    "\n",
    "for post in ask_posts:\n",
    "    num_comments = post[4]\n",
    "    total_ask_comments += int(num_comments)\n",
    "    \n",
    "for post in how_posts:\n",
    "    num_comments = post[4]\n",
    "    total_how_comments += int(num_comments)\n",
    "    \n",
    "print('Average Number of Comments for Ask Posts : ', total_ask_comments / len(ask_posts))\n",
    "print('Average Number of Comments for How Posts : ', total_how_comments / len(how_posts))"
   ]
  },
  {
   "cell_type": "markdown",
   "metadata": {},
   "source": [
    "Based on the calculations, Ask HN post has more number of average comments with 10.393 comments in each post (on average). So, we'll continue analysis on Ask HN posts since it receives more comments than Show HN post."
   ]
  },
  {
   "cell_type": "markdown",
   "metadata": {},
   "source": [
    "Next, we'll do analysis about the top times to post Ask HN in Hacker News. We'll be using `datetime` to handle with date and time of post created. But, before we'll create new list to store the information about post ID and the time Ask HN post created."
   ]
  },
  {
   "cell_type": "code",
   "execution_count": 25,
   "metadata": {},
   "outputs": [
    {
     "name": "stdout",
     "output_type": "stream",
     "text": [
      "[['12578908', '9/26/2016 2:53', '7'], ['12578522', '9/26/2016 1:17', '3'], ['12577908', '9/25/2016 22:57', '0'], ['12577870', '9/25/2016 22:48', '3'], ['12577647', '9/25/2016 21:50', '2']]\n",
      "9139\n"
     ]
    }
   ],
   "source": [
    "import datetime as dt\n",
    "\n",
    "result_list = []\n",
    "\n",
    "for post in ask_posts:\n",
    "    post_id = post[0] \n",
    "    time = post[6]\n",
    "    num_comments = post[4]\n",
    "    result_list.append([post_id, time, num_comments])\n",
    "    \n",
    "print(result_list[:5])\n",
    "print(len(result_list))"
   ]
  },
  {
   "cell_type": "markdown",
   "metadata": {},
   "source": [
    "Next, in our analysis we want to know the average number of comments each post has per hour. To do that, we'll create two dictionary variables, one is called `counts_by_hour` to keep track of number of post in each hour created and `comments_by_hour` to calculate total number of comments for all post in each hour. But, we need to convert the column date in each post into hour only (the original column date has format of MM/DD/YYYY HH:MM) by using datetime built-in function `strptime` and `strftime`."
   ]
  },
  {
   "cell_type": "code",
   "execution_count": 27,
   "metadata": {},
   "outputs": [
    {
     "name": "stdout",
     "output_type": "stream",
     "text": [
      "{'02': 2996, '01': 2089, '22': 3372, '21': 4500, '19': 3954, '17': 5547, '15': 18525, '14': 4972, '13': 7245, '11': 2797, '10': 3013, '09': 1477, '07': 1585, '03': 2154, '23': 2297, '20': 4462, '16': 4466, '08': 2362, '00': 2277, '18': 4877, '12': 4234, '04': 2360, '06': 1587, '05': 1838}\n",
      "{'02': 269, '01': 282, '22': 383, '21': 518, '19': 552, '17': 587, '15': 646, '14': 513, '13': 444, '11': 312, '10': 282, '09': 222, '07': 226, '03': 271, '23': 343, '20': 510, '16': 579, '08': 257, '00': 301, '18': 614, '12': 342, '04': 243, '06': 234, '05': 209}\n"
     ]
    }
   ],
   "source": [
    "counts_by_hour = {}\n",
    "comments_by_hour = {}\n",
    "\n",
    "for item in result_list:\n",
    "    num_comments = int(item[2])\n",
    "    date = dt.datetime.strptime(item[1], '%m/%d/%Y %H:%M')\n",
    "    time = date.strftime('%H')\n",
    "    if time not in counts_by_hour:\n",
    "        counts_by_hour[time] = 1\n",
    "        comments_by_hour[time] = num_comments\n",
    "    else:\n",
    "        counts_by_hour[time] += 1\n",
    "        comments_by_hour[time] += num_comments\n",
    "        \n",
    "print(comments_by_hour)\n",
    "print(counts_by_hour)"
   ]
  },
  {
   "cell_type": "markdown",
   "metadata": {},
   "source": [
    "Next, we'll just need to calculate the average number of comments for each hour by dividing `comments_by_hour` and `counts_by_hour` respectively based on hour and then store it in new list called `avg_by_hour`"
   ]
  },
  {
   "cell_type": "code",
   "execution_count": 30,
   "metadata": {
    "scrolled": true
   },
   "outputs": [
    {
     "name": "stdout",
     "output_type": "stream",
     "text": [
      "[['02', 11.137546468401487], ['01', 7.407801418439717], ['22', 8.804177545691905], ['21', 8.687258687258687], ['19', 7.163043478260869], ['17', 9.449744463373083], ['15', 28.676470588235293], ['14', 9.692007797270955], ['13', 16.31756756756757], ['11', 8.96474358974359], ['10', 10.684397163120567], ['09', 6.653153153153153], ['07', 7.013274336283186], ['03', 7.948339483394834], ['23', 6.696793002915452], ['20', 8.749019607843136], ['16', 7.713298791018998], ['08', 9.190661478599221], ['00', 7.5647840531561465], ['18', 7.94299674267101], ['12', 12.380116959064328], ['04', 9.7119341563786], ['06', 6.782051282051282], ['05', 8.794258373205741]]\n"
     ]
    }
   ],
   "source": [
    "avg_by_hour = []\n",
    "\n",
    "for hour in counts_by_hour.keys():\n",
    "    avg = int(comments_by_hour[hour])/int(counts_by_hour[hour])\n",
    "    avg_by_hour.append([hour, avg])\n",
    "    \n",
    "print(avg_by_hour)"
   ]
  },
  {
   "cell_type": "markdown",
   "metadata": {},
   "source": [
    "Last step, we need to sort `avg_by_hour` based on its average number of comments. Since `avg_by_hour` is consisted of list of list beginning with hour then average comments, we need to swap it first so it can be sorted based on average number of comments. We also need change the date time format from HH to HH:MM using `strptime` and `strftime` as shown below."
   ]
  },
  {
   "cell_type": "code",
   "execution_count": 40,
   "metadata": {},
   "outputs": [
    {
     "name": "stdout",
     "output_type": "stream",
     "text": [
      "Top 5 Hours for Ask Post Comments\n",
      "\n",
      "15:00: 28.68 comments per post\n",
      "13:00: 16.32 comments per post\n",
      "12:00: 12.38 comments per post\n",
      "02:00: 11.14 comments per post\n",
      "10:00: 10.68 comments per post\n",
      "04:00: 9.71 comments per post\n"
     ]
    }
   ],
   "source": [
    "swap_avg_by_hour = []\n",
    "\n",
    "for item in avg_by_hour:\n",
    "    swap_avg_by_hour.append([item[1], item[0]])\n",
    "    \n",
    "sorted_swap = sorted(swap_avg_by_hour, reverse=True)\n",
    "\n",
    "for item in sorted_swap:\n",
    "    time = item[1]\n",
    "    time = dt.datetime.strptime(time, '%H').strftime('%H:%M')\n",
    "    item[1] = time\n",
    "    \n",
    "print('Top 5 Hours for Ask Post Comments\\n')\n",
    "for item in sorted_swap[:6]:\n",
    "    template = '{hour}: {avg:.2f} comments per post'\n",
    "    print(template.format(hour=item[1], avg=item[0]))"
   ]
  },
  {
   "cell_type": "markdown",
   "metadata": {},
   "source": [
    "## Conclusion"
   ]
  },
  {
   "cell_type": "markdown",
   "metadata": {},
   "source": [
    "In this project, we want to know what times is best to submit Ask HN post based on the number of comments. We have did the analysis and based on the calculation on the dataset, the best time to post is at 3 PM which the post receive 28.68 comments on average. Other times to post Ask HN is 1 PM and 12 PM which will receive 16.32 and 12.38 comments on average per post respectively."
   ]
  }
 ],
 "metadata": {
  "kernelspec": {
   "display_name": "Python 3",
   "language": "python",
   "name": "python3"
  },
  "language_info": {
   "codemirror_mode": {
    "name": "ipython",
    "version": 3
   },
   "file_extension": ".py",
   "mimetype": "text/x-python",
   "name": "python",
   "nbconvert_exporter": "python",
   "pygments_lexer": "ipython3",
   "version": "3.7.3"
  }
 },
 "nbformat": 4,
 "nbformat_minor": 2
}
